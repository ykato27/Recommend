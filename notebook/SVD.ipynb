{
 "cells": [
  {
   "cell_type": "markdown",
   "id": "be190d07",
   "metadata": {},
   "source": [
    "## モデルベース協調フィルタリング"
   ]
  },
  {
   "cell_type": "code",
   "execution_count": 1,
   "id": "aa5ca6bc",
   "metadata": {},
   "outputs": [],
   "source": [
    "%load_ext lab_black"
   ]
  },
  {
   "cell_type": "code",
   "execution_count": 2,
   "id": "3572e9b6",
   "metadata": {},
   "outputs": [],
   "source": [
    "from surprise import Dataset\n",
    "from surprise import SVD\n",
    "from surprise.model_selection import cross_validate"
   ]
  },
  {
   "cell_type": "markdown",
   "id": "70d428a8",
   "metadata": {},
   "source": [
    "無料で公開されているデータセットでGroupLens Researchが収集したMovieLensというデータセットがあります。\n",
    "\n",
    "[MovieLens | GroupLens](https://grouplens.org/datasets/movielens/)\n",
    "\n",
    "ここで公開されているデータセットは映画に対してユーザが評価をつけたもののデータセットになります。"
   ]
  },
  {
   "cell_type": "code",
   "execution_count": 3,
   "id": "4b71d688",
   "metadata": {},
   "outputs": [
    {
     "data": {
      "text/plain": [
       "<surprise.dataset.DatasetAutoFolds at 0x7fea154b43d0>"
      ]
     },
     "execution_count": 3,
     "metadata": {},
     "output_type": "execute_result"
    }
   ],
   "source": [
    "movielends = Dataset.load_builtin(\"ml-100k\")\n",
    "movielends"
   ]
  },
  {
   "cell_type": "code",
   "execution_count": 4,
   "id": "1ae9df1d",
   "metadata": {},
   "outputs": [
    {
     "name": "stdout",
     "output_type": "stream",
     "text": [
      "Evaluating RMSE, MAE of algorithm SVD on 5 split(s).\n",
      "\n",
      "                  Fold 1  Fold 2  Fold 3  Fold 4  Fold 5  Mean    Std     \n",
      "RMSE (testset)    0.9378  0.9358  0.9391  0.9332  0.9303  0.9352  0.0032  \n",
      "MAE (testset)     0.7384  0.7401  0.7411  0.7352  0.7318  0.7373  0.0034  \n",
      "Fit time          10.61   11.66   13.12   13.49   13.33   12.44   1.12    \n",
      "Test time         0.36    0.30    0.37    0.32    0.39    0.35    0.03    \n"
     ]
    },
    {
     "data": {
      "text/plain": [
       "{'test_rmse': array([0.93782749, 0.93577767, 0.93905739, 0.93317183, 0.93030522]),\n",
       " 'test_mae': array([0.73840217, 0.74005006, 0.74114212, 0.73520053, 0.73181104]),\n",
       " 'fit_time': (10.610619068145752,\n",
       "  11.664794683456421,\n",
       "  13.115850448608398,\n",
       "  13.48858094215393,\n",
       "  13.33030915260315),\n",
       " 'test_time': (0.35500025749206543,\n",
       "  0.30057787895202637,\n",
       "  0.37280702590942383,\n",
       "  0.323117733001709,\n",
       "  0.3864448070526123)}"
      ]
     },
     "execution_count": 4,
     "metadata": {},
     "output_type": "execute_result"
    }
   ],
   "source": [
    "algo = SVD()\n",
    "\n",
    "cross_validate(algo, movielends, measures=[\"RMSE\", \"MAE\"], cv=5, verbose=True)"
   ]
  },
  {
   "cell_type": "code",
   "execution_count": 5,
   "id": "b6c77eba",
   "metadata": {},
   "outputs": [
    {
     "name": "stdout",
     "output_type": "stream",
     "text": [
      "user: 6          item: 451        r_ui = 4.00   est = 2.66   {'was_impossible': False}\n"
     ]
    }
   ],
   "source": [
    "movielends = Dataset.load_builtin(\"ml-100k\")\n",
    "trainset = movielends.build_full_trainset()\n",
    "\n",
    "algo = SVD()\n",
    "algo.fit(trainset)\n",
    "\n",
    "uid = str(6)\n",
    "iid = str(451)\n",
    "pred = algo.predict(uid, iid, r_ui=4, verbose=True)"
   ]
  },
  {
   "cell_type": "code",
   "execution_count": null,
   "id": "bb687e51",
   "metadata": {},
   "outputs": [],
   "source": []
  }
 ],
 "metadata": {
  "kernelspec": {
   "display_name": "Python 3",
   "language": "python",
   "name": "python3"
  },
  "language_info": {
   "codemirror_mode": {
    "name": "ipython",
    "version": 3
   },
   "file_extension": ".py",
   "mimetype": "text/x-python",
   "name": "python",
   "nbconvert_exporter": "python",
   "pygments_lexer": "ipython3",
   "version": "3.9.4"
  }
 },
 "nbformat": 4,
 "nbformat_minor": 5
}
