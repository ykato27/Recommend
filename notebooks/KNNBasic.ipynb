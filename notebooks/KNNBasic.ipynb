{
 "cells": [
  {
   "cell_type": "markdown",
   "id": "f01e6b36",
   "metadata": {},
   "source": [
    "## メモリベース協調フィルタリング"
   ]
  },
  {
   "cell_type": "code",
   "execution_count": 1,
   "id": "5dd42283",
   "metadata": {},
   "outputs": [],
   "source": [
    "%load_ext lab_black"
   ]
  },
  {
   "cell_type": "code",
   "execution_count": 2,
   "id": "3b231559",
   "metadata": {},
   "outputs": [],
   "source": [
    "from surprise import Dataset\n",
    "from surprise import KNNBasic\n",
    "from surprise.model_selection import cross_validate"
   ]
  },
  {
   "cell_type": "code",
   "execution_count": 3,
   "id": "2748a572",
   "metadata": {},
   "outputs": [],
   "source": [
    "movielends = Dataset.load_builtin(\"ml-100k\")"
   ]
  },
  {
   "cell_type": "code",
   "execution_count": 4,
   "id": "8ae99057",
   "metadata": {},
   "outputs": [
    {
     "name": "stdout",
     "output_type": "stream",
     "text": [
      "Computing the pearson similarity matrix...\n",
      "Done computing similarity matrix.\n",
      "Computing the pearson similarity matrix...\n",
      "Done computing similarity matrix.\n",
      "Computing the pearson similarity matrix...\n",
      "Done computing similarity matrix.\n",
      "Computing the pearson similarity matrix...\n",
      "Done computing similarity matrix.\n",
      "Computing the pearson similarity matrix...\n",
      "Done computing similarity matrix.\n",
      "Evaluating RMSE, MAE of algorithm KNNBasic on 5 split(s).\n",
      "\n",
      "                  Fold 1  Fold 2  Fold 3  Fold 4  Fold 5  Mean    Std     \n",
      "RMSE (testset)    1.0817  1.0872  1.0795  1.0907  1.0823  1.0843  0.0041  \n",
      "MAE (testset)     0.8579  0.8615  0.8536  0.8622  0.8567  0.8584  0.0032  \n",
      "Fit time          2.53    3.57    3.25    3.89    2.89    3.23    0.48    \n",
      "Test time         4.67    6.60    6.48    8.22    8.47    6.89    1.38    \n"
     ]
    },
    {
     "data": {
      "text/plain": [
       "{'test_rmse': array([1.08171304, 1.08717395, 1.07948389, 1.09068146, 1.08226824]),\n",
       " 'test_mae': array([0.85789151, 0.86152359, 0.85356073, 0.86221571, 0.85665878]),\n",
       " 'fit_time': (2.5250980854034424,\n",
       "  3.568476676940918,\n",
       "  3.253537893295288,\n",
       "  3.8910932540893555,\n",
       "  2.8941714763641357),\n",
       " 'test_time': (4.668166160583496,\n",
       "  6.596320152282715,\n",
       "  6.477898597717285,\n",
       "  8.216166973114014,\n",
       "  8.471897602081299)}"
      ]
     },
     "execution_count": 4,
     "metadata": {},
     "output_type": "execute_result"
    }
   ],
   "source": [
    "sim_options = {\n",
    "    \"name\": \"pearson\",  # 類似度を計算する方法を指定（ cosine,msd,pearson,pearson_baseline ）\n",
    "    \"user_based\": True,  # False にするとアイテムベースに\n",
    "}\n",
    "algo = KNNBasic(k=5, min_k=1, sim_options=sim_options)\n",
    "\n",
    "cross_validate(algo, movielends, measures=[\"RMSE\", \"MAE\"], cv=5, verbose=True)"
   ]
  },
  {
   "cell_type": "code",
   "execution_count": null,
   "id": "1d6fcfb0",
   "metadata": {},
   "outputs": [],
   "source": []
  }
 ],
 "metadata": {
  "kernelspec": {
   "display_name": "Python 3",
   "language": "python",
   "name": "python3"
  },
  "language_info": {
   "codemirror_mode": {
    "name": "ipython",
    "version": 3
   },
   "file_extension": ".py",
   "mimetype": "text/x-python",
   "name": "python",
   "nbconvert_exporter": "python",
   "pygments_lexer": "ipython3",
   "version": "3.9.4"
  }
 },
 "nbformat": 4,
 "nbformat_minor": 5
}
